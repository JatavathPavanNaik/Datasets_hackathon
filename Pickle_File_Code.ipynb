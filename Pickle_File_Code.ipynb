{
 "cells": [
  {
   "cell_type": "markdown",
   "metadata": {},
   "source": [
    "# Life Style"
   ]
  },
  {
   "cell_type": "code",
   "execution_count": null,
   "metadata": {},
   "outputs": [],
   "source": [
    "import pickle\n",
    "import numpy as np\n",
    "\n",
    "# Function to predict the nearest cluster using a trained KModes model\n",
    "def predict_cluster(input_features, pickle_file_path):\n",
    "    \"\"\"\n",
    "    Load the KModes model from a pickle file and predict the nearest cluster for the given input features.\n",
    "    \n",
    "    Parameters:\n",
    "    - input_features (list or numpy array): The input features to be predicted.\n",
    "    - pickle_file_path (str): Path to the pickle file containing the trained KModes model.\n",
    "    \n",
    "    Returns:\n",
    "    - The predicted cluster label for the input features.\n",
    "    \"\"\"\n",
    "    # Load the trained KModes model from the pickle file\n",
    "    with open(pickle_file_path, 'rb') as f:\n",
    "        kmodes_model = pickle.load(f)\n",
    "    \n",
    "    # Ensure input features are in the correct shape (2D array) for prediction\n",
    "    input_features = np.array(input_features).reshape(1, -1)  # Reshape to (1, n_features) for a single sample\n",
    "\n",
    "    # Print the input features\n",
    "    print(\"Input Features:\", input_features)\n",
    "\n",
    "    # Predict the nearest cluster using the KModes model\n",
    "    try:\n",
    "        predicted_cluster = kmodes_model.predict(input_features)\n",
    "        return predicted_cluster[0]  # Return the predicted cluster label\n",
    "    except Exception as e:\n",
    "        print(\"Error during prediction:\", str(e))\n",
    "\n",
    "# Example usage\n",
    "input_features = ['Sedentary', 'Omnivore', 4, 'Low', 'Non-smoker', 'None', 'Low', 'Adequate', 'Fair', 'Music', 'Weak', 'Regular', 'High', 'Minimal', 'Poor']\n",
    "pickle_file_path = '/Users/jatavathpavannaik/Documents/python/Hackathon/kmodes_model_life_style.pkl'  # Path to the saved pickle file\n",
    "\n",
    "# Call the function to get the cluster\n",
    "predicted_cluster = predict_cluster(input_features, pickle_file_path)\n",
    "print(f\"Predicted cluster: {predicted_cluster}\")\n"
   ]
  },
  {
   "cell_type": "markdown",
   "metadata": {},
   "source": [
    "# Harmone and Enzyme"
   ]
  },
  {
   "cell_type": "code",
   "execution_count": null,
   "metadata": {},
   "outputs": [],
   "source": [
    "import pickle\n",
    "import pandas as pd\n",
    "\n",
    "# Step 1: Load the pickled PCA and KMeans models\n",
    "with open('/Users/jatavathpavannaik/Documents/python/Hackathon/PCA_model_Hormones_enzymes.pkl', 'rb') as pca_file:\n",
    "    pca_model = pickle.load(pca_file)\n",
    "\n",
    "with open('/Users/jatavathpavannaik/Documents/python/Hackathon/kmeans_model_Hormones_enzymes.pkl', 'rb') as kmeans_file:\n",
    "    kmeans_model = pickle.load(kmeans_file)\n",
    "\n",
    "# Step 2: Prepare new input data (for example, a DataFrame)\n",
    "input_data = Hormones_Enzymes.values[1].reshape(1, -1)  # Reshape to 2D array for a single sample\n",
    "\n",
    "# Step 3: Apply the same PCA transformation to the new input data\n",
    "transformed_data = pca_model.transform(input_data)\n",
    "\n",
    "# Step 4: Predict the cluster labels using the KMeans model\n",
    "predictions = kmeans_model.predict(transformed_data)\n",
    "\n",
    "# Step 5: Output the predictions\n",
    "print(predictions)\n"
   ]
  },
  {
   "cell_type": "markdown",
   "metadata": {},
   "source": [
    "# Demographic"
   ]
  },
  {
   "cell_type": "code",
   "execution_count": null,
   "metadata": {},
   "outputs": [],
   "source": [
    "import pickle\n",
    "import numpy as np\n",
    "\n",
    "# Function to predict the nearest cluster using a trained KModes model\n",
    "def predict_cluster(input_features, pickle_file_path):\n",
    "    \"\"\"\n",
    "    Load the KModes model from a pickle file and predict the nearest cluster for the given input features.\n",
    "    \n",
    "    Parameters:\n",
    "    - input_features (list or numpy array): The input features to be predicted.\n",
    "    - pickle_file_path (str): Path to the pickle file containing the trained KModes model.\n",
    "    \n",
    "    Returns:\n",
    "    - The predicted cluster label for the input features.\n",
    "    \"\"\"\n",
    "    # Load the trained KModes model from the pickle file\n",
    "    with open(pickle_file_path, 'rb') as f:\n",
    "        kmodes_model = pickle.load(f)\n",
    "    \n",
    "    # Ensure input features are in the correct shape (2D array) for prediction\n",
    "    input_features = np.array(input_features).reshape(1, -1)  # Reshape to (1, n_features) for a single sample\n",
    "\n",
    "    # Print the input features\n",
    "    print(\"Input Features:\", input_features)\n",
    "\n",
    "    # Predict the nearest cluster using the KModes model\n",
    "    try:\n",
    "        predicted_cluster = kmodes_model.predict(input_features)\n",
    "        return predicted_cluster[0]  # Return the predicted cluster label\n",
    "    except Exception as e:\n",
    "        print(\"Error during prediction:\", str(e))\n",
    "\n",
    "# Example usage\n",
    "input_features = [33, 'Female', 'Single', 5, 'Odisha', 'Unemployed', '500-1000']\n",
    "pickle_file_path = '/Users/jatavathpavannaik/Documents/python/Hackathon/kmodes_model_demographic.pkl'  # Path to the saved pickle file\n",
    "\n",
    "# Call the function to get the cluster\n",
    "predicted_cluster = predict_cluster(input_features, pickle_file_path)\n",
    "print(f\"Predicted cluster: {predicted_cluster}\")\n"
   ]
  }
 ],
 "metadata": {
  "language_info": {
   "name": "python"
  },
  "orig_nbformat": 4
 },
 "nbformat": 4,
 "nbformat_minor": 2
}
